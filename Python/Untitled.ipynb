{
 "cells": [
  {
   "cell_type": "code",
   "execution_count": 1,
   "id": "86aa1374-98e1-4ed7-a080-21ba96db10c5",
   "metadata": {},
   "outputs": [
    {
     "name": "stdout",
     "output_type": "stream",
     "text": [
      "Hello World\n"
     ]
    }
   ],
   "source": [
    "print(\"Hello World\")"
   ]
  },
  {
   "cell_type": "code",
   "execution_count": 2,
   "id": "a38b62ce-963f-4648-820e-f462d54b6637",
   "metadata": {},
   "outputs": [],
   "source": [
    "a = [1,2,3]"
   ]
  },
  {
   "cell_type": "code",
   "execution_count": 3,
   "id": "37170032-acb4-4365-999a-b230e904c1c3",
   "metadata": {},
   "outputs": [
    {
     "data": {
      "text/plain": [
       "2"
      ]
     },
     "execution_count": 3,
     "metadata": {},
     "output_type": "execute_result"
    }
   ],
   "source": [
    "a[1]"
   ]
  },
  {
   "cell_type": "code",
   "execution_count": 4,
   "id": "110d1770-ed82-4f24-aa1b-f6209caa4daa",
   "metadata": {},
   "outputs": [],
   "source": [
    "s = \"hello\""
   ]
  },
  {
   "cell_type": "code",
   "execution_count": 5,
   "id": "866a0ee6-6ed6-4fce-af8c-716a735c9cca",
   "metadata": {},
   "outputs": [
    {
     "data": {
      "text/plain": [
       "'olleh'"
      ]
     },
     "execution_count": 5,
     "metadata": {},
     "output_type": "execute_result"
    }
   ],
   "source": [
    "s[::-1]"
   ]
  },
  {
   "cell_type": "code",
   "execution_count": 6,
   "id": "e509d99b-2f01-4545-aade-5030b6ea4308",
   "metadata": {},
   "outputs": [],
   "source": [
    "list3 = [1,2,[3,4,\"hello\"]]"
   ]
  },
  {
   "cell_type": "code",
   "execution_count": 7,
   "id": "bd6f6f19-c19c-4ecb-8067-0b7d9148df96",
   "metadata": {},
   "outputs": [
    {
     "data": {
      "text/plain": [
       "'hello'"
      ]
     },
     "execution_count": 7,
     "metadata": {},
     "output_type": "execute_result"
    }
   ],
   "source": [
    "list3[2][2]"
   ]
  },
  {
   "cell_type": "code",
   "execution_count": 8,
   "id": "5567cb14-8b02-4179-9a77-19427cfbcfc0",
   "metadata": {},
   "outputs": [],
   "source": [
    "list4 = [5,3,4,6,1]"
   ]
  },
  {
   "cell_type": "code",
   "execution_count": 9,
   "id": "4f0f9f0f-59b6-49e7-ab7b-685b82bbfde5",
   "metadata": {},
   "outputs": [],
   "source": [
    "list4.sort()"
   ]
  },
  {
   "cell_type": "code",
   "execution_count": 10,
   "id": "ca7fab87-a0bb-4dd2-b55e-f25b148416e1",
   "metadata": {},
   "outputs": [
    {
     "name": "stdout",
     "output_type": "stream",
     "text": [
      "[1, 3, 4, 5, 6]\n"
     ]
    }
   ],
   "source": [
    "print(list4)"
   ]
  },
  {
   "cell_type": "code",
   "execution_count": 14,
   "id": "8e67bcf3-2ab1-446c-be97-08794809a31d",
   "metadata": {},
   "outputs": [],
   "source": [
    "d={'simple_key':'hello'} "
   ]
  },
  {
   "cell_type": "code",
   "execution_count": 20,
   "id": "65ea3a7e-0415-4a49-b0ee-f3281359d99d",
   "metadata": {},
   "outputs": [
    {
     "data": {
      "text/plain": [
       "'hello'"
      ]
     },
     "execution_count": 20,
     "metadata": {},
     "output_type": "execute_result"
    }
   ],
   "source": [
    "d['simple_key']"
   ]
  },
  {
   "cell_type": "code",
   "execution_count": 22,
   "id": "d5c3647c-a6bb-4edf-9611-c7b0422305e3",
   "metadata": {},
   "outputs": [],
   "source": [
    "d={'k1':{'k2':'hello'}}"
   ]
  },
  {
   "cell_type": "code",
   "execution_count": 23,
   "id": "458de4e9-ae8a-4c31-9dee-230cdd3d954e",
   "metadata": {},
   "outputs": [
    {
     "data": {
      "text/plain": [
       "'hello'"
      ]
     },
     "execution_count": 23,
     "metadata": {},
     "output_type": "execute_result"
    }
   ],
   "source": [
    "d['k1']['k2']"
   ]
  },
  {
   "cell_type": "code",
   "execution_count": 24,
   "id": "c4bc5ed0-7bf9-4991-afb1-c27c10cb19c4",
   "metadata": {},
   "outputs": [
    {
     "name": "stdout",
     "output_type": "stream",
     "text": [
      "HELLO\n"
     ]
    }
   ],
   "source": [
    "if 3>2:\n",
    "    print(\"HELLO\")\n",
    "elif 2==2:\n",
    "    print(\"UMM\")"
   ]
  },
  {
   "cell_type": "code",
   "execution_count": null,
   "id": "da8dbc20-4391-445f-8b33-27824ce7cec3",
   "metadata": {},
   "outputs": [],
   "source": []
  }
 ],
 "metadata": {
  "kernelspec": {
   "display_name": "Python 3 (ipykernel)",
   "language": "python",
   "name": "python3"
  },
  "language_info": {
   "codemirror_mode": {
    "name": "ipython",
    "version": 3
   },
   "file_extension": ".py",
   "mimetype": "text/x-python",
   "name": "python",
   "nbconvert_exporter": "python",
   "pygments_lexer": "ipython3",
   "version": "3.11.7"
  }
 },
 "nbformat": 4,
 "nbformat_minor": 5
}
